{
 "cells": [
  {
   "cell_type": "code",
   "execution_count": 1,
   "metadata": {},
   "outputs": [
    {
     "data": {
      "text/plain": [
       "<jcc.JCCEnv at 0x7f4b5c69bad0>"
      ]
     },
     "execution_count": 1,
     "metadata": {},
     "output_type": "execute_result"
    }
   ],
   "source": [
    "# import and initialize pylucene\n",
    "import lucene\n",
    "lucene.initVM()\n",
    "\n",
    "\n"
   ]
  },
  {
   "cell_type": "code",
   "execution_count": 2,
   "metadata": {},
   "outputs": [
    {
     "ename": "ModuleNotFoundError",
     "evalue": "No module named 'chess'",
     "output_type": "error",
     "traceback": [
      "\u001b[0;31m---------------------------------------------------------------------------\u001b[0m",
      "\u001b[0;31mModuleNotFoundError\u001b[0m                       Traceback (most recent call last)",
      "Cell \u001b[0;32mIn[2], line 1\u001b[0m\n\u001b[0;32m----> 1\u001b[0m \u001b[38;5;28;01mimport\u001b[39;00m \u001b[38;5;21;01mchess\u001b[39;00m\u001b[38;5;21;01m.\u001b[39;00m\u001b[38;5;21;01mpgn\u001b[39;00m\n\u001b[1;32m      2\u001b[0m \u001b[38;5;28;01mimport\u001b[39;00m \u001b[38;5;21;01mchess\u001b[39;00m\u001b[38;5;21;01m.\u001b[39;00m\u001b[38;5;21;01msvg\u001b[39;00m\n\u001b[1;32m      3\u001b[0m \u001b[38;5;28;01mfrom\u001b[39;00m \u001b[38;5;21;01mIPython\u001b[39;00m\u001b[38;5;21;01m.\u001b[39;00m\u001b[38;5;21;01mdisplay\u001b[39;00m \u001b[38;5;28;01mimport\u001b[39;00m SVG, display\n",
      "\u001b[0;31mModuleNotFoundError\u001b[0m: No module named 'chess'"
     ]
    }
   ],
   "source": [
    "import chess.pgn\n",
    "import chess.svg\n",
    "from IPython.display import SVG, display\n",
    "\n",
    "# Open the PGN file\n",
    "with open(\"chessdb/lichess_db_standard_rated_2023-11.pgn\") as pgn_file:\n",
    "    # Loop over the first 10 games\n",
    "    for _ in range(10):\n",
    "        # Read the next game from the PGN file\n",
    "        game = chess.pgn.read_game(pgn_file)\n",
    "        # Get the final board position of the game\n",
    "        board = game.end().board()\n",
    "        # Generate an SVG image of the board\n",
    "        svg = chess.svg.board(board=board)\n",
    "        # Display the SVG image\n",
    "        display(SVG(svg))"
   ]
  },
  {
   "cell_type": "code",
   "execution_count": 11,
   "metadata": {},
   "outputs": [],
   "source": [
    "# The goal of this task is to test out the algorithms that had been discussed\n",
    "# during the lectures.\n",
    "# The task is to implement the following algorithms:\n",
    "# 1. Boolean Search\n",
    "# 2. Ranked retrieval with ad-hoc Vector Space Model\n",
    "# This is to show the problem with Boolean Searc, which is that its results can either be a lot or nothing.\n",
    "# while VSM can give us a ranked list of documents. For this example we take the top 10 Chesss games that matches the query.\n",
    "\n",
    "# The first step is to create an index of the documents. For this example we will use the first 250 000 games from the PGN file, we will store this output\n",
    "# in the indexed_games folder within chessdb.\n",
    "# For this we use pylucene, which is a python wrapper for the Java Lucene library.\n",
    "\n",
    "# To make it simple we will judge solely on the amount of captured pieces\n",
    "# We will use the following scoring system:\n",
    "#\n",
    "\n",
    "\n"
   ]
  },
  {
   "cell_type": "code",
   "execution_count": 15,
   "metadata": {},
   "outputs": [
    {
     "ename": "AttributeError",
     "evalue": "module 'lucene' has no attribute 'Path'",
     "output_type": "error",
     "traceback": [
      "\u001b[0;31m---------------------------------------------------------------------------\u001b[0m",
      "\u001b[0;31mAttributeError\u001b[0m                            Traceback (most recent call last)",
      "\u001b[1;32m/mnt/c/Users/yanok/Desktop/repos/chess-db/tester.ipynb Cell 4\u001b[0m line \u001b[0;36m1\n\u001b[1;32m      <a href='vscode-notebook-cell://wsl%2Bubuntu-20.04/mnt/c/Users/yanok/Desktop/repos/chess-db/tester.ipynb#W4sdnNjb2RlLXJlbW90ZQ%3D%3D?line=4'>5</a>\u001b[0m \u001b[39mfrom\u001b[39;00m \u001b[39morg\u001b[39;00m\u001b[39m.\u001b[39;00m\u001b[39mapache\u001b[39;00m\u001b[39m.\u001b[39;00m\u001b[39mlucene\u001b[39;00m\u001b[39m.\u001b[39;00m\u001b[39manalysis\u001b[39;00m\u001b[39m.\u001b[39;00m\u001b[39mstandard\u001b[39;00m \u001b[39mimport\u001b[39;00m StandardAnalyzer\n\u001b[1;32m      <a href='vscode-notebook-cell://wsl%2Bubuntu-20.04/mnt/c/Users/yanok/Desktop/repos/chess-db/tester.ipynb#W4sdnNjb2RlLXJlbW90ZQ%3D%3D?line=6'>7</a>\u001b[0m \u001b[39m# Now that we indexed the documents, we can start with the Boolean Search.\u001b[39;00m\n\u001b[1;32m      <a href='vscode-notebook-cell://wsl%2Bubuntu-20.04/mnt/c/Users/yanok/Desktop/repos/chess-db/tester.ipynb#W4sdnNjb2RlLXJlbW90ZQ%3D%3D?line=7'>8</a>\u001b[0m \u001b[39m# The query is Pawn to e4, which is the most common opening move in chess.\u001b[39;00m\n\u001b[1;32m      <a href='vscode-notebook-cell://wsl%2Bubuntu-20.04/mnt/c/Users/yanok/Desktop/repos/chess-db/tester.ipynb#W4sdnNjb2RlLXJlbW90ZQ%3D%3D?line=8'>9</a>\u001b[0m \u001b[39m# We will use the following query:\u001b[39;00m\n\u001b[0;32m   (...)\u001b[0m\n\u001b[1;32m     <a href='vscode-notebook-cell://wsl%2Bubuntu-20.04/mnt/c/Users/yanok/Desktop/repos/chess-db/tester.ipynb#W4sdnNjb2RlLXJlbW90ZQ%3D%3D?line=12'>13</a>\u001b[0m \n\u001b[1;32m     <a href='vscode-notebook-cell://wsl%2Bubuntu-20.04/mnt/c/Users/yanok/Desktop/repos/chess-db/tester.ipynb#W4sdnNjb2RlLXJlbW90ZQ%3D%3D?line=13'>14</a>\u001b[0m \u001b[39m# Specify the directory where the indexed games are stored\u001b[39;00m\n\u001b[0;32m---> <a href='vscode-notebook-cell://wsl%2Bubuntu-20.04/mnt/c/Users/yanok/Desktop/repos/chess-db/tester.ipynb#W4sdnNjb2RlLXJlbW90ZQ%3D%3D?line=14'>15</a>\u001b[0m index_dir \u001b[39m=\u001b[39m NIOFSDirectory\u001b[39m.\u001b[39mopen(lucene\u001b[39m.\u001b[39;49mPath()\u001b[39m.\u001b[39mof(\u001b[39m\"\u001b[39m\u001b[39mchessdb/indexed_games\u001b[39m\u001b[39m\"\u001b[39m))\n\u001b[1;32m     <a href='vscode-notebook-cell://wsl%2Bubuntu-20.04/mnt/c/Users/yanok/Desktop/repos/chess-db/tester.ipynb#W4sdnNjb2RlLXJlbW90ZQ%3D%3D?line=16'>17</a>\u001b[0m \u001b[39m# Create an IndexSearcher\u001b[39;00m\n\u001b[1;32m     <a href='vscode-notebook-cell://wsl%2Bubuntu-20.04/mnt/c/Users/yanok/Desktop/repos/chess-db/tester.ipynb#W4sdnNjb2RlLXJlbW90ZQ%3D%3D?line=17'>18</a>\u001b[0m searcher \u001b[39m=\u001b[39m IndexSearcher(DirectoryReader\u001b[39m.\u001b[39mopen(index_dir))\n",
      "\u001b[0;31mAttributeError\u001b[0m: module 'lucene' has no attribute 'Path'"
     ]
    }
   ],
   "source": [
    "from java.nio.file import Paths\n",
    "\n",
    "from org.apache.lucene.store import NIOFSDirectory\n",
    "from org.apache.lucene.search import IndexSearcher\n",
    "from org.apache.lucene.index import DirectoryReader\n",
    "from org.apache.lucene.queryparser.classic import QueryParser\n",
    "from org.apache.lucene.analysis.standard import StandardAnalyzer\n",
    "\n",
    "# Now that we indexed the documents, we can start with the Boolean Search.\n",
    "# The query is Pawn to e4, which is the most common opening move in chess.\n",
    "# We will use the following query:\n",
    "# +pawn +e4\n",
    "\n",
    "\n",
    "\n",
    "# Specify the directory where the indexed games are stored\n",
    "index_dir = NIOFSDirectory.open(lucene.Path().of(\"chessdb/indexed_games\"))\n",
    "\n",
    "# Create an IndexSearcher\n",
    "searcher = IndexSearcher(DirectoryReader.open(index_dir))\n",
    "\n",
    "# Create a QueryParser\n",
    "parser = QueryParser(\"content\", StandardAnalyzer())\n",
    "\n",
    "# Parse the query\n",
    "query = parser.parse(\"e4\")\n",
    "\n",
    "# Perform the search\n",
    "hits = searcher.search(query, 10).scoreDocs\n",
    "\n",
    "# Print the results\n",
    "for hit in hits:\n",
    "    doc = searcher.doc(hit.doc)\n",
    "    print(doc.get(\"filename\"))"
   ]
  }
 ],
 "metadata": {
  "kernelspec": {
   "display_name": ".venv",
   "language": "python",
   "name": "python3"
  },
  "language_info": {
   "codemirror_mode": {
    "name": "ipython",
    "version": 3
   },
   "file_extension": ".py",
   "mimetype": "text/x-python",
   "name": "python",
   "nbconvert_exporter": "python",
   "pygments_lexer": "ipython3",
   "version": "3.9.5"
  }
 },
 "nbformat": 4,
 "nbformat_minor": 2
}
