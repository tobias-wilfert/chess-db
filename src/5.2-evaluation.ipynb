{
 "cells": [
  {
   "cell_type": "markdown",
   "metadata": {},
   "source": [
    "# Examination of the results\n",
    "We ran a couple of experiments (each ruffly taking 4 hours). To facilitate the analysis we decided to print out the results of the experiments. The idea was that we could load the results into python again to do more in depth. As it turns out this will require some hacking since the representation of the enum is not serializable by default."
   ]
  },
  {
   "cell_type": "code",
   "execution_count": 56,
   "metadata": {},
   "outputs": [],
   "source": [
    "# Setup\n",
    "from chess import Move\n",
    "from enum import Enum\n",
    "\n",
    "class Outcome(Enum):\n",
    "    WHITE_WON = 1\n",
    "    BLACK_WON = -1\n",
    "    DRAW = 0\n",
    "    \n",
    "    # TODO: Why is this not the default representation??\n",
    "    def __repr__(self) -> str:\n",
    "        return f\"Outcome.{self.name}\"\n",
    "\n",
    "    \n",
    "def read_file_as_string(filename):\n",
    "    with open(filename, \"r\") as f:\n",
    "        return f.read().strip()\n",
    "\n",
    "\n",
    "def load_results(filename):\n",
    "    return eval(read_file_as_string(filename).replace(\"<Outcome.WHITE_WON: 1>\", \"Outcome.WHITE_WON\").replace(\"<Outcome.BLACK_WON: -1>\", \"Outcome.BLACK_WON\").replace(\"<Outcome.DRAW: 0>\", \"Outcome.DRAW\"))\n",
    "\n",
    "\n",
    "def similarity_1(result):\n",
    "    if isinstance(result[0], tuple):\n",
    "        similarity = [x[1][2][0][0] for x in result]\n",
    "        return sum(similarity)/len(similarity)\n",
    "    else:\n",
    "        similarity = [x[2][0][0] for x in result]\n",
    "        return sum(similarity)/len(similarity)\n",
    "\n",
    "def similarity_5(result):\n",
    "    if isinstance(result[0], tuple):\n",
    "        similarity = [sum([y[0] for y in x[1][2]])/5 for x in result]\n",
    "        return sum(similarity)/len(similarity)\n",
    "    else:\n",
    "        similarity = [sum([y[0] for y in x[2]])/5 for x in result]\n",
    "        return sum(similarity)/len(similarity)\n"
   ]
  },
  {
   "cell_type": "code",
   "execution_count": 67,
   "metadata": {},
   "outputs": [],
   "source": [
    "# NOTE: First 2 experiments should be swapped.\n",
    "# Experiment 1: Analysis the move that lead to the puzzle (should be bad) [all]\n",
    "c1 = load_results(\"./Results/1w.txt\")\n",
    "w1 = load_results(\"./Results/1c.txt\")\n",
    "# Experiment 2: Analysis the move that lead to the puzzle (should be bad) [<=1600]\n",
    "c2 = load_results(\"./Results/2w.txt\")\n",
    "w2 = load_results(\"./Results/2c.txt\")\n",
    "\n",
    "# Experiment 3: 1st Puzzle Move [all]\n",
    "c3 = load_results(\"./Results/3c.txt\")\n",
    "w3 = load_results(\"./Results/3w.txt\")\n",
    "# Experiment 4: 1st Puzzle Move [<=1600]\n",
    "c4 = load_results(\"./Results/4c.txt\")\n",
    "w4 = load_results(\"./Results/4w.txt\")\n",
    "# Experiment 5: 1st Puzzle Move [>1600]\n",
    "c5 = load_results(\"./Results/5c.txt\")[-53:]  # NOTE: Necesary since there was a little oppsie during the experiment\n",
    "w5 = load_results(\"./Results/5w.txt\")[-47:]"
   ]
  },
  {
   "cell_type": "code",
   "execution_count": 53,
   "metadata": {},
   "outputs": [
    {
     "name": "stdout",
     "output_type": "stream",
     "text": [
      "Similarity@1 c1: 35.95691500483333\n",
      "Similarity@1 w1: 40.67978515625\n",
      "Similarity@5 c1: 33.92741782729689\n",
      "Similarity@5 w1: 38.49809245300293\n",
      "#Correct: 37, #Wrong 25\n"
     ]
    }
   ],
   "source": [
    "print(f\"Similarity@1 c1: {similarity_1(c1)}\")  # 35.95691500483333\n",
    "print(f\"Similarity@1 w1: {similarity_1(w1)}\")  # 40.67978515625\n",
    "print(f\"Similarity@5 c1: {similarity_5(c1)}\")  # 33.92741782729689 \n",
    "print(f\"Similarity@5 w1: {similarity_5(w1)}\")  # 38.49809245300293\n",
    "\n",
    "print(f\"#Correct: {len(c1)}, #Wrong {len(w1)}\")"
   ]
  },
  {
   "cell_type": "code",
   "execution_count": 54,
   "metadata": {},
   "outputs": [
    {
     "name": "stdout",
     "output_type": "stream",
     "text": [
      "Similarity@1 c2: 38.83290209668748\n",
      "Similarity@1 w2: 37.186637772454155\n",
      "Similarity@5 c2: 36.68928066010171\n",
      "Similarity@5 w2: 34.964048724704334\n",
      "#Correct: 47, #Wrong 54\n"
     ]
    }
   ],
   "source": [
    "print(f\"Similarity@1 c2: {similarity_1(c2)}\")  # 38.83290209668748\n",
    "print(f\"Similarity@1 w2: {similarity_1(w2)}\")  # 37.186637772454155\n",
    "print(f\"Similarity@5 c2: {similarity_5(c2)}\")  # 36.68928066010171\n",
    "print(f\"Similarity@5 w2: {similarity_5(w2)}\")  # 34.964048724704334\n",
    "\n",
    "print(f\"#Correct: {len(c2)}, #Wrong {len(w2)}\")"
   ]
  },
  {
   "cell_type": "code",
   "execution_count": 57,
   "metadata": {},
   "outputs": [
    {
     "name": "stdout",
     "output_type": "stream",
     "text": [
      "Similarity@1 c3: 35.580178003462535\n",
      "Similarity@1 w3: 37.58695720981907\n",
      "Similarity@5 c3: 33.58668511405825\n",
      "Similarity@5 w3: 35.37312721046243\n",
      "#Correct: 63, #Wrong 37\n"
     ]
    }
   ],
   "source": [
    "print(f\"Similarity@1 c3: {similarity_1(c3)}\")  \n",
    "print(f\"Similarity@1 w3: {similarity_1(w3)}\")  \n",
    "print(f\"Similarity@5 c3: {similarity_5(c3)}\")  \n",
    "print(f\"Similarity@5 w3: {similarity_5(w3)}\")  \n",
    "\n",
    "print(f\"#Correct: {len(c3)}, #Wrong {len(w3)}\")"
   ]
  },
  {
   "cell_type": "code",
   "execution_count": 59,
   "metadata": {},
   "outputs": [
    {
     "name": "stdout",
     "output_type": "stream",
     "text": [
      "Similarity@1 c4: 34.516711119947765\n",
      "Similarity@1 w4: 35.423412777128675\n",
      "Similarity@5 c4: 32.705104285273066\n",
      "Similarity@5 w4: 33.35163417543684\n",
      "#Correct: 58, #Wrong 42\n"
     ]
    }
   ],
   "source": [
    "print(f\"Similarity@1 c4: {similarity_1(c4)}\")  \n",
    "print(f\"Similarity@1 w4: {similarity_1(w4)}\")  \n",
    "print(f\"Similarity@5 c4: {similarity_5(c4)}\")  \n",
    "print(f\"Similarity@5 w4: {similarity_5(w4)}\")  \n",
    "\n",
    "print(f\"#Correct: {len(c4)}, #Wrong {len(w4)}\")"
   ]
  },
  {
   "cell_type": "code",
   "execution_count": 69,
   "metadata": {},
   "outputs": [
    {
     "name": "stdout",
     "output_type": "stream",
     "text": [
      "Similarity@1 c5: 37.47299385070801\n",
      "Similarity@1 w5: 37.36965646135046\n",
      "Similarity@5 c5: 34.96765310899268\n",
      "Similarity@5 w5: 35.04270589300926\n",
      "#Correct: 53, #Wrong 47\n"
     ]
    }
   ],
   "source": [
    "print(f\"Similarity@1 c5: {similarity_1(c5)}\")  \n",
    "print(f\"Similarity@1 w5: {similarity_1(w5)}\")  \n",
    "print(f\"Similarity@5 c5: {similarity_5(c5)}\")  \n",
    "print(f\"Similarity@5 w5: {similarity_5(w5)}\")  \n",
    "\n",
    "print(f\"#Correct: {len(c5)}, #Wrong {len(w5)}\")"
   ]
  },
  {
   "cell_type": "markdown",
   "metadata": {},
   "source": [
    "TODO:\n",
    "- Do MAP and P@1 calculations + some other interesting metrics"
   ]
  }
 ],
 "metadata": {
  "kernelspec": {
   "display_name": ".venv",
   "language": "python",
   "name": "python3"
  },
  "language_info": {
   "codemirror_mode": {
    "name": "ipython",
    "version": 3
   },
   "file_extension": ".py",
   "mimetype": "text/x-python",
   "name": "python",
   "nbconvert_exporter": "python",
   "pygments_lexer": "ipython3",
   "version": "3.11.6"
  }
 },
 "nbformat": 4,
 "nbformat_minor": 2
}
