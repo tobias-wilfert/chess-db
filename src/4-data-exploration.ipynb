{
 "cells": [
  {
   "cell_type": "markdown",
   "metadata": {},
   "source": [
    "# Explore the dataset that we created\n",
    "- avg rating\n",
    "- game length\n",
    "- results breakdown\n",
    "etc..."
   ]
  },
  {
   "cell_type": "code",
   "execution_count": 4,
   "metadata": {},
   "outputs": [],
   "source": [
    "import pandas as pd"
   ]
  },
  {
   "cell_type": "code",
   "execution_count": 8,
   "metadata": {},
   "outputs": [],
   "source": [
    "import csv\n",
    "# Think about how to best do this? go via the file directory or via the PGN file?\n",
    "\n",
    "# Think is our PGNs are filter_more, good_games\n",
    "\n",
    "import chess.pgn\n",
    "\n",
    "pgn_file = \"PGN/good_games.pgn\"\n",
    "\n",
    "headers = []\n",
    "with open(pgn_file) as f:\n",
    "    while True:\n",
    "        game = chess.pgn.read_game(f)\n",
    "        if game is None:\n",
    "            break\n",
    "        headers.append([game.headers.get(\"Event\"), game.headers.get(\"Result\"), game.headers.get(\"WhiteElo\"), game.headers.get(\"BlackElo\"), game.headers.get(\"Site\")]) # .get(\"Result\"))\n",
    "\n",
    "headers\n",
    "csv_file = \"headers.csv\"\n",
    "\n",
    "with open(csv_file, mode='w', newline='') as f:\n",
    "    writer = csv.writer(f)\n",
    "    writer.writerow([\"Event\", \"Result\", \"WhiteElo\", \"BlackElo\", \"Site\"])  # Write the header row\n",
    "    writer.writerows(headers)  # Write the data rows\n"
   ]
  },
  {
   "cell_type": "code",
   "execution_count": 9,
   "metadata": {},
   "outputs": [],
   "source": [
    "pgn_file = \"PGN/filter_more.pgn\"\n",
    "\n",
    "headers = []\n",
    "with open(pgn_file) as f:\n",
    "    while True:\n",
    "        game = chess.pgn.read_game(f)\n",
    "        if game is None:\n",
    "            break\n",
    "        headers.append([game.headers.get(\"Event\"), game.headers.get(\"Result\"), game.headers.get(\"WhiteElo\"), game.headers.get(\"BlackElo\"), game.headers.get(\"Site\")]) # .get(\"Result\"))\n",
    "\n",
    "csv_file = \"headers.csv\"\n",
    "with open(csv_file, mode='a', newline='') as f:\n",
    "    writer = csv.writer(f)\n",
    "    writer.writerows(headers)  # Append the data rows\n"
   ]
  },
  {
   "cell_type": "code",
   "execution_count": 14,
   "metadata": {},
   "outputs": [],
   "source": [
    "# TODO: Analyze the puzzles to make sure we are analyzing games that are not actually too difficult, I think this might be an issue namely, want to match the puzzles to the games in the DB.\n",
    "pass_failed_tests = [0,1,1,0,1,0,0,1,1,1,1,1,0,0,0,1,0,0,0,0,0,0,0,1,0,0,0,1,0,0,0,0,1,1,1,0,0,0]"
   ]
  },
  {
   "cell_type": "code",
   "execution_count": 5,
   "metadata": {},
   "outputs": [
    {
     "name": "stdout",
     "output_type": "stream",
     "text": [
      "(1000, 10)\n"
     ]
    }
   ],
   "source": [
    "# Load the puzzles to evaluate on from the CSV file.\n",
    "\n",
    "df = pd.read_csv('sorted_df_output.csv')\n",
    "print(df.shape)\n",
    "\n",
    "def get_puzzle_board(index):\n",
    "    fen = df.iloc[index]['FEN']\n",
    "    return chess.Board(fen)\n",
    "\n",
    "def get_puzzle_solution(index):\n",
    "    return df.iloc[index]['Moves'].split(\" \")[0] # Only the first move"
   ]
  },
  {
   "cell_type": "code",
   "execution_count": 29,
   "metadata": {},
   "outputs": [
    {
     "name": "stdout",
     "output_type": "stream",
     "text": [
      "FAILED:  1740 crushing middlegame pin short\n",
      "FAILED:  1506 advantage discoveredAttack middlegame short\n",
      "FAILED:  1663 kingsideAttack mate mateIn2 middlegame sacrifice short\n",
      "FAILED:  1557 advantage middlegame short trappedPiece\n",
      "FAILED:  1595 advantage middlegame short trappedPiece\n",
      "FAILED:  1776 crushing long middlegame\n",
      "FAILED:  1950 advantage endgame short\n",
      "FAILED:  1690 crushing middlegame short\n",
      "FAILED:  1592 advantage long opening\n",
      "FAILED:  1536 advantage fork opening short\n",
      "FAILED:  1660 crushing endgame pawnEndgame short\n",
      "FAILED:  1682 advantage defensiveMove middlegame short\n",
      "FAILED:  1914 crushing middlegame short\n",
      "FAILED:  1821 advancedPawn advantage endgame promotion short\n",
      "FAILED:  1524 advancedPawn advantage discoveredAttack endgame long\n",
      "FAILED:  1800 advantage opening short\n",
      "FAILED:  1791 advantage middlegame pin short\n",
      "FAILED:  1635 crushing endgame oneMove\n",
      "FAILED:  1651 crushing long middlegame sacrifice\n",
      "FAILED:  1645 crushing deflection exposedKing long middlegame sacrifice\n",
      "FAILED:  1667 advantage hangingPiece middlegame pin short\n",
      "FAILED:  1502 advantage kingsideAttack middlegame short\n",
      "FAILED:  1984 advantage defensiveMove long middlegame\n",
      "FAILED:  2343 advantage intermezzo middlegame veryLong\n",
      "1717.6666666666667\n",
      "15\n"
     ]
    }
   ],
   "source": [
    "passed_sum = 0\n",
    "failed_sum = 0\n",
    "passed_count = 0\n",
    "failed_count = 0\n",
    "\n",
    "t = 0\n",
    "\n",
    "for i in range(len(pass_failed_tests)):\n",
    "    if pass_failed_tests[i] == 0:\n",
    "        print(\"FAILED: \", df.iloc[i][\"Rating\"], df.iloc[i][\"Themes\"])\n",
    "        failed_count += 1\n",
    "        failed_sum += df.iloc[i][\"Rating\"]\n",
    "        if df.iloc[i][\"Rating\"] <= 1700:\n",
    "            t += 1\n",
    "    else:\n",
    "        # print(\"PASSED: \", df.iloc[i][\"Rating\"], df.iloc[i][\"Themes\"])\n",
    "        # passed_count += 1\n",
    "        # passed_sum += df.iloc[i][\"Rating\"]\n",
    "        pass\n",
    "\n",
    "print(failed_sum / failed_count)\n",
    "print(t)"
   ]
  },
  {
   "cell_type": "code",
   "execution_count": 30,
   "metadata": {},
   "outputs": [
    {
     "name": "stdout",
     "output_type": "stream",
     "text": [
      "PASSED:  1828 crushing middlegame short\n",
      "PASSED:  1812 advantage discoveredAttack middlegame short\n",
      "PASSED:  2129 advantage middlegame short\n",
      "PASSED:  1651 advantage middlegame short\n",
      "PASSED:  1513 clearance crushing defensiveMove long middlegame\n",
      "PASSED:  1544 crushing endgame short\n",
      "PASSED:  1856 advantage endgame short\n",
      "PASSED:  1857 advantage middlegame short\n",
      "PASSED:  1619 crushing endgame long\n",
      "PASSED:  1662 crushing middlegame pin short\n",
      "PASSED:  1642 advantage endgame short\n",
      "PASSED:  1543 equality long middlegame\n",
      "PASSED:  1765 advantage middlegame short\n",
      "PASSED:  1601 attraction crushing fork long middlegame sacrifice\n",
      "8\n",
      "1715.857142857143\n"
     ]
    }
   ],
   "source": [
    "t = 0\n",
    "\n",
    "for i in range(len(pass_failed_tests)):\n",
    "    if pass_failed_tests[i] == 0:\n",
    "        # print(\"FAILED: \", df.iloc[i][\"Rating\"], df.iloc[i][\"Themes\"])\n",
    "        # failed_count += 1\n",
    "        # failed_sum += df.iloc[i][\"Rating\"]\n",
    "        pass\n",
    "    else:\n",
    "        print(\"PASSED: \", df.iloc[i][\"Rating\"], df.iloc[i][\"Themes\"])\n",
    "        passed_count += 1\n",
    "        passed_sum += df.iloc[i][\"Rating\"]\n",
    "        if df.iloc[i][\"Rating\"] <= 1700:\n",
    "            t += 1\n",
    "\n",
    "print(t)\n",
    "print(passed_sum / passed_count)"
   ]
  },
  {
   "cell_type": "code",
   "execution_count": 31,
   "metadata": {},
   "outputs": [],
   "source": [
    "pass_failed_tests += [1, 0, 0, 1, 0, 0, 0, 0, 1, 1, 0, 1, 0, 1, 0, 0, 0, 1, 1, 0, 0, 0, 0, 0, 0, 0, 1, 0, 0, 1, 1, 0, 1, 1, 0, 0, 1, 0, 1, 1, 1, 1, 1, 1, 0, 1, 0, 0, 1, 0, 0, 0, 0, 0, 1, 0, 0, 0, 0, 1, 1, 0]\n"
   ]
  },
  {
   "cell_type": "code",
   "execution_count": 36,
   "metadata": {},
   "outputs": [
    {
     "data": {
      "text/plain": [
       "100"
      ]
     },
     "execution_count": 36,
     "metadata": {},
     "output_type": "execute_result"
    }
   ],
   "source": [
    "len(pass_failed_tests)"
   ]
  },
  {
   "cell_type": "code",
   "execution_count": 38,
   "metadata": {},
   "outputs": [
    {
     "name": "stdout",
     "output_type": "stream",
     "text": [
      "FAILED:  1740 crushing middlegame pin short\n",
      "FAILED:  1506 advantage discoveredAttack middlegame short\n",
      "FAILED:  1663 kingsideAttack mate mateIn2 middlegame sacrifice short\n",
      "FAILED:  1557 advantage middlegame short trappedPiece\n",
      "FAILED:  1595 advantage middlegame short trappedPiece\n",
      "FAILED:  1776 crushing long middlegame\n",
      "FAILED:  1950 advantage endgame short\n",
      "FAILED:  1690 crushing middlegame short\n",
      "FAILED:  1592 advantage long opening\n",
      "FAILED:  1536 advantage fork opening short\n",
      "FAILED:  1660 crushing endgame pawnEndgame short\n",
      "FAILED:  1682 advantage defensiveMove middlegame short\n",
      "FAILED:  1914 crushing middlegame short\n",
      "FAILED:  1821 advancedPawn advantage endgame promotion short\n",
      "FAILED:  1524 advancedPawn advantage discoveredAttack endgame long\n",
      "FAILED:  1800 advantage opening short\n",
      "FAILED:  1791 advantage middlegame pin short\n",
      "FAILED:  1635 crushing endgame oneMove\n",
      "FAILED:  1651 crushing long middlegame sacrifice\n",
      "FAILED:  1645 crushing deflection exposedKing long middlegame sacrifice\n",
      "FAILED:  1667 advantage hangingPiece middlegame pin short\n",
      "FAILED:  1502 advantage kingsideAttack middlegame short\n",
      "FAILED:  1984 advantage defensiveMove long middlegame\n",
      "FAILED:  2343 advantage intermezzo middlegame veryLong\n",
      "FAILED:  1800 crushing hangingPiece middlegame short\n",
      "FAILED:  1744 advantage endgame long\n",
      "FAILED:  1968 advantage middlegame sacrifice short\n",
      "FAILED:  1731 advantage deflection endgame veryLong\n",
      "FAILED:  1597 advantage endgame short\n",
      "FAILED:  1812 advantage middlegame short\n",
      "FAILED:  1801 advantage middlegame short\n",
      "FAILED:  1652 advantage long middlegame\n",
      "FAILED:  1513 advantage defensiveMove hangingPiece middlegame short\n",
      "FAILED:  1790 bishopEndgame crushing endgame long quietMove zugzwang\n",
      "FAILED:  1500 advantage middlegame short\n",
      "FAILED:  1515 advantage endgame short\n",
      "FAILED:  1783 advantage endgame short skewer\n",
      "FAILED:  1672 advantage discoveredAttack fork middlegame short\n",
      "FAILED:  1671 crushing endgame long master masterVsMaster\n",
      "FAILED:  1902 advantage middlegame short\n",
      "FAILED:  1845 crushing exposedKing kingsideAttack long middlegame\n",
      "FAILED:  1809 advantage discoveredAttack opening short\n",
      "FAILED:  1794 advantage opening short\n",
      "FAILED:  1962 crushing middlegame oneMove\n",
      "FAILED:  1540 crushing long middlegame queensideAttack\n",
      "FAILED:  1828 advantage endgame short\n",
      "FAILED:  1839 advancedPawn advantage middlegame pin short\n",
      "FAILED:  1908 advantage endgame fork short\n",
      "FAILED:  1898 advantage fork hangingPiece long middlegame\n",
      "FAILED:  1740 crushing middlegame short\n",
      "FAILED:  1624 advantage long middlegame\n",
      "FAILED:  1771 crushing endgame rookEndgame short\n",
      "FAILED:  1569 advantage middlegame short trappedPiece\n",
      "FAILED:  1922 advantage defensiveMove deflection endgame veryLong\n",
      "FAILED:  1996 crushing middlegame short\n",
      "FAILED:  1660 crushing long middlegame\n",
      "FAILED:  1781 crushing middlegame short\n",
      "FAILED:  1800 advantage master masterVsMaster middlegame pin short\n",
      "FAILED:  1703 crushing endgame long\n",
      "FAILED:  1531 advantage middlegame short\n",
      "FAILED:  1783 attraction crushing deflection endgame fork long\n",
      "1737.344262295082\n",
      "18\n"
     ]
    }
   ],
   "source": [
    "passed_sum = 0\n",
    "failed_sum = 0\n",
    "passed_count = 0\n",
    "failed_count = 0\n",
    "\n",
    "t = 0\n",
    "\n",
    "for i in range(len(pass_failed_tests)):\n",
    "    if pass_failed_tests[i] == 0:\n",
    "        print(\"FAILED: \", df.iloc[i][\"Rating\"], df.iloc[i][\"Themes\"])\n",
    "        failed_count += 1\n",
    "        failed_sum += df.iloc[i][\"Rating\"]\n",
    "        if df.iloc[i][\"Rating\"] <= 1700 and (\"advantage\" in df.iloc[i][\"Themes\"]):\n",
    "            t += 1\n",
    "    else:\n",
    "        # print(\"PASSED: \", df.iloc[i][\"Rating\"], df.iloc[i][\"Themes\"])\n",
    "        # passed_count += 1\n",
    "        # passed_sum += df.iloc[i][\"Rating\"]\n",
    "        pass\n",
    "\n",
    "print(failed_sum / failed_count)\n",
    "print(t)"
   ]
  },
  {
   "cell_type": "code",
   "execution_count": 40,
   "metadata": {},
   "outputs": [
    {
     "name": "stdout",
     "output_type": "stream",
     "text": [
      "PASSED:  1828 crushing middlegame short\n",
      "PASSED:  1812 advantage discoveredAttack middlegame short\n",
      "PASSED:  2129 advantage middlegame short\n",
      "PASSED:  1651 advantage middlegame short\n",
      "PASSED:  1513 clearance crushing defensiveMove long middlegame\n",
      "PASSED:  1544 crushing endgame short\n",
      "PASSED:  1856 advantage endgame short\n",
      "PASSED:  1857 advantage middlegame short\n",
      "PASSED:  1619 crushing endgame long\n",
      "PASSED:  1662 crushing middlegame pin short\n",
      "PASSED:  1642 advantage endgame short\n",
      "PASSED:  1543 equality long middlegame\n",
      "PASSED:  1765 advantage middlegame short\n",
      "PASSED:  1601 attraction crushing fork long middlegame sacrifice\n",
      "PASSED:  1513 advantage defensiveMove endgame knightEndgame short\n",
      "PASSED:  1790 advantage middlegame oneMove\n",
      "PASSED:  1800 backRankMate endgame hangingPiece mate mateIn2 short\n",
      "PASSED:  1800 advantage middlegame short\n",
      "PASSED:  1916 advantage middlegame veryLong\n",
      "PASSED:  1593 advantage fork middlegame short\n",
      "PASSED:  1848 advantage long middlegame\n",
      "PASSED:  1680 advantage middlegame short\n",
      "PASSED:  1917 advancedPawn crushing endgame hangingPiece oneMove\n",
      "PASSED:  1818 crushing endgame interference short\n",
      "PASSED:  2069 advantage middlegame short\n",
      "PASSED:  1502 crushing middlegame short\n",
      "PASSED:  1770 advantage defensiveMove endgame long\n",
      "PASSED:  1990 crushing middlegame oneMove\n",
      "PASSED:  1567 advantage opening short\n",
      "PASSED:  1701 advantage middlegame short\n",
      "PASSED:  1618 advantage long middlegame\n",
      "PASSED:  1861 advantage middlegame short\n",
      "PASSED:  1900 advantage discoveredAttack kingsideAttack middlegame short\n",
      "PASSED:  1588 advantage middlegame veryLong\n",
      "PASSED:  1635 crushing opening short\n",
      "PASSED:  1800 advantage fork long middlegame pin sacrifice\n",
      "PASSED:  1858 advantage long middlegame\n",
      "PASSED:  1534 advantage deflection endgame short\n",
      "PASSED:  1932 advantage middlegame sacrifice short\n",
      "9\n",
      "1754.4651162790697\n"
     ]
    }
   ],
   "source": [
    "t = 0\n",
    "\n",
    "for i in range(len(pass_failed_tests)):\n",
    "    if pass_failed_tests[i] == 0:\n",
    "        # print(\"FAILED: \", df.iloc[i][\"Rating\"], df.iloc[i][\"Themes\"])\n",
    "        # failed_count += 1\n",
    "        # failed_sum += df.iloc[i][\"Rating\"]\n",
    "        pass\n",
    "    else:\n",
    "        print(\"PASSED: \", df.iloc[i][\"Rating\"], df.iloc[i][\"Themes\"])\n",
    "        passed_count += 1\n",
    "        passed_sum += df.iloc[i][\"Rating\"]\n",
    "        if df.iloc[i][\"Rating\"] <= 1700 and (\"advantage\" in df.iloc[i][\"Themes\"]):\n",
    "            t += 1\n",
    "\n",
    "print(t)\n",
    "print(passed_sum / passed_count)"
   ]
  },
  {
   "cell_type": "code",
   "execution_count": null,
   "metadata": {},
   "outputs": [],
   "source": [
    "# TODO: Need to analyze the data and see if there is an imbalance"
   ]
  },
  {
   "cell_type": "code",
   "execution_count": 45,
   "metadata": {},
   "outputs": [
    {
     "name": "stdout",
     "output_type": "stream",
     "text": [
      "f | c\n",
      "[35, 18]\n",
      "[26, 21]\n"
     ]
    }
   ],
   "source": [
    "b_count = [0,0]\n",
    "w_count = [0,0]\n",
    "\n",
    "for i in range(100):\n",
    "    # print(df.iloc[i][\"FEN\"]) \n",
    "    if df.iloc[i][\"FEN\"].split(\" \")[1] == \"b\":\n",
    "        b_count[pass_failed_tests[i]] += 1\n",
    "    else:\n",
    "        w_count[pass_failed_tests[i]] += 1\n",
    "\n",
    "print(\"f | c\")\n",
    "print(b_count)\n",
    "print(w_count)"
   ]
  },
  {
   "cell_type": "code",
   "execution_count": 48,
   "metadata": {},
   "outputs": [
    {
     "name": "stdout",
     "output_type": "stream",
     "text": [
      "f | c\n",
      "[23, 11]\n",
      "[16, 15]\n"
     ]
    }
   ],
   "source": [
    "b_count = [0,0]\n",
    "w_count = [0,0]\n",
    "\n",
    "for i in range(100):\n",
    "    if \"advantage\" not in df.iloc[i][\"Themes\"]:\n",
    "        continue\n",
    "    \n",
    "    if df.iloc[i][\"FEN\"].split(\" \")[1] == \"b\":\n",
    "        b_count[pass_failed_tests[i]] += 1\n",
    "    else:\n",
    "        w_count[pass_failed_tests[i]] += 1\n",
    "\n",
    "print(\"f | c\")\n",
    "print(b_count)\n",
    "print(w_count)"
   ]
  },
  {
   "cell_type": "markdown",
   "metadata": {},
   "source": [
    "Seems like we are better at classifying white positions? That are below 1700 and are tagged as \"advantage\"."
   ]
  },
  {
   "cell_type": "markdown",
   "metadata": {},
   "source": [
    "# Player stats"
   ]
  },
  {
   "cell_type": "code",
   "execution_count": 51,
   "metadata": {},
   "outputs": [
    {
     "name": "stdout",
     "output_type": "stream",
     "text": [
      "1847.2956327646882 1847.4024649600083\n"
     ]
    }
   ],
   "source": [
    "# Read the CSV file\n",
    "df = pd.read_csv('headers.csv')\n",
    "\n",
    "# Calculate the average white elo\n",
    "avg_white_elo = df['WhiteElo'].mean()\n",
    "\n",
    "# Calculate the average black elo\n",
    "avg_black_elo = df['BlackElo'].mean()\n",
    "\n",
    "print(avg_white_elo, avg_black_elo)\n"
   ]
  },
  {
   "cell_type": "code",
   "execution_count": 58,
   "metadata": {},
   "outputs": [
    {
     "data": {
      "text/plain": [
       "<Axes: >"
      ]
     },
     "execution_count": 58,
     "metadata": {},
     "output_type": "execute_result"
    },
    {
     "data": {
      "image/png": "[encoded data removed]",
      "text/plain": [
       "<Figure size 640x480 with 1 Axes>"
      ]
     },
     "metadata": {},
     "output_type": "display_data"
    }
   ],
   "source": [
    "import matplotlib.pyplot as plt\n",
    "df['WhiteElo'].hist(bins=20)"
   ]
  },
  {
   "cell_type": "code",
   "execution_count": 59,
   "metadata": {},
   "outputs": [
    {
     "data": {
      "text/plain": [
       "<Axes: >"
      ]
     },
     "execution_count": 59,
     "metadata": {},
     "output_type": "execute_result"
    },
    {
     "data": {
      "image/png": "[encoded data removed]",
      "text/plain": [
       "<Figure size 640x480 with 1 Axes>"
      ]
     },
     "metadata": {},
     "output_type": "display_data"
    }
   ],
   "source": [
    "df['BlackElo'].hist(bins=20)"
   ]
  },
  {
   "cell_type": "markdown",
   "metadata": {},
   "source": [
    "# Puzzle stats"
   ]
  },
  {
   "cell_type": "code",
   "execution_count": 60,
   "metadata": {},
   "outputs": [
    {
     "name": "stdout",
     "output_type": "stream",
     "text": [
      "1764.148\n"
     ]
    }
   ],
   "source": [
    "import pandas as pd\n",
    "\n",
    "# Read the CSV file\n",
    "df = pd.read_csv('sorted_df_output.csv')\n",
    "\n",
    "# Calculate the average puzzle rating\n",
    "avg_puzzle_rating = df['Rating'].mean()\n",
    "\n",
    "# Display the average puzzle rating\n",
    "print(avg_puzzle_rating)\n"
   ]
  },
  {
   "cell_type": "code",
   "execution_count": 61,
   "metadata": {},
   "outputs": [
    {
     "data": {
      "text/plain": [
       "<Axes: >"
      ]
     },
     "execution_count": 61,
     "metadata": {},
     "output_type": "execute_result"
    },
    {
     "data": {
      "image/png": "[encoded data removed]",
      "text/plain": [
       "<Figure size 640x480 with 1 Axes>"
      ]
     },
     "metadata": {},
     "output_type": "display_data"
    }
   ],
   "source": [
    "df['Rating'].hist(bins=20)"
   ]
  },
  {
   "cell_type": "code",
   "execution_count": 62,
   "metadata": {},
   "outputs": [
    {
     "name": "stdout",
     "output_type": "stream",
     "text": [
      "Number of puzzles for black: 517\n",
      "Number of puzzles for white: 483\n"
     ]
    }
   ],
   "source": [
    "# Count the number of puzzles for black and white\n",
    "black_count = df[df['FEN'].str.split().str[1] == 'b'].shape[0]\n",
    "white_count = df[df['FEN'].str.split().str[1] == 'w'].shape[0]\n",
    "\n",
    "# Output the counts\n",
    "print(\"Number of puzzles for black:\", black_count)\n",
    "print(\"Number of puzzles for white:\", white_count)\n"
   ]
  },
  {
   "cell_type": "markdown",
   "metadata": {},
   "source": [
    "Pretty balanced"
   ]
  },
  {
   "cell_type": "code",
   "execution_count": 63,
   "metadata": {},
   "outputs": [],
   "source": [
    "filtered_games = df[df['Rating'] <= 1600]\n",
    "filtered_games.to_csv('sub1600_games.csv', index=False)\n"
   ]
  },
  {
   "cell_type": "code",
   "execution_count": 64,
   "metadata": {},
   "outputs": [
    {
     "name": "stdout",
     "output_type": "stream",
     "text": [
      "Number of puzzles for black: 117\n",
      "Number of puzzles for white: 97\n"
     ]
    }
   ],
   "source": [
    "black_count = filtered_games[filtered_games['FEN'].str.split().str[1] == 'b'].shape[0]\n",
    "white_count = filtered_games[filtered_games['FEN'].str.split().str[1] == 'w'].shape[0]\n",
    "\n",
    "print(\"Number of puzzles for black:\", black_count)\n",
    "print(\"Number of puzzles for white:\", white_count)\n"
   ]
  },
  {
   "cell_type": "code",
   "execution_count": 1,
   "metadata": {},
   "outputs": [],
   "source": [
    "pass_failed_tests = [1, 1, 1, 0, 1, 1, 1, 0, 1, 0, 0, 0, 1, 1, 0, 1, 0, 1, 1, 1, 0, 1, 1, 0, 1, 1, 1, 0, 0, 0, 1, 1, 1, 1, 1, 1, 0, 1, 1, 1, 0, 1, 1, 1, 1, 1, 0, 0, 0, 0, 1, 1, 1, 1, 1, 0, 1, 0, 1, 1, 1, 1, 1, 1, 0, 1, 1, 1, 1, 1, 1, 0, 0, 1, 0, 1, 0, 0, 0, 1, 0, 0, 1, 0, 1, 1, 0, 1, 0, 1, 0, 1, 0, 1, 0, 0, 0, 1, 1, 1]"
   ]
  },
  {
   "cell_type": "code",
   "execution_count": 6,
   "metadata": {},
   "outputs": [
    {
     "name": "stdout",
     "output_type": "stream",
     "text": [
      "FAILED:  1506 advantage discoveredAttack middlegame short\n",
      "FAILED:  1651 advantage middlegame short\n",
      "FAILED:  1544 crushing endgame short\n",
      "FAILED:  1856 advantage endgame short\n",
      "FAILED:  1857 advantage middlegame short\n",
      "FAILED:  1950 advantage endgame short\n",
      "FAILED:  1690 crushing middlegame short\n",
      "FAILED:  1682 advantage defensiveMove middlegame short\n",
      "FAILED:  1662 crushing middlegame pin short\n",
      "FAILED:  1642 advantage endgame short\n",
      "FAILED:  1635 crushing endgame oneMove\n",
      "FAILED:  1651 crushing long middlegame sacrifice\n",
      "FAILED:  1984 advantage defensiveMove long middlegame\n",
      "FAILED:  1744 advantage endgame long\n",
      "FAILED:  1800 backRankMate endgame hangingPiece mate mateIn2 short\n",
      "FAILED:  1800 advantage middlegame short\n",
      "FAILED:  1801 advantage middlegame short\n",
      "FAILED:  1916 advantage middlegame veryLong\n",
      "FAILED:  1848 advantage long middlegame\n",
      "FAILED:  1515 advantage endgame short\n",
      "FAILED:  1917 advancedPawn crushing endgame hangingPiece oneMove\n",
      "FAILED:  1770 advantage defensiveMove endgame long\n",
      "FAILED:  1828 advantage endgame short\n",
      "FAILED:  1990 crushing middlegame oneMove\n",
      "FAILED:  1567 advantage opening short\n",
      "FAILED:  1701 advantage middlegame short\n",
      "FAILED:  1618 advantage long middlegame\n",
      "FAILED:  1900 advantage discoveredAttack kingsideAttack middlegame short\n",
      "FAILED:  1588 advantage middlegame veryLong\n",
      "FAILED:  1635 crushing opening short\n",
      "FAILED:  1800 advantage fork long middlegame pin sacrifice\n",
      "FAILED:  1569 advantage middlegame short trappedPiece\n",
      "FAILED:  1996 crushing middlegame short\n",
      "FAILED:  1858 advantage long middlegame\n",
      "FAILED:  1800 advantage master masterVsMaster middlegame pin short\n",
      "FAILED:  1703 crushing endgame long\n",
      "FAILED:  1531 advantage middlegame short\n",
      "1743.3783783783783\n",
      "10\n"
     ]
    }
   ],
   "source": [
    "passed_sum = 0\n",
    "failed_sum = 0\n",
    "passed_count = 0\n",
    "failed_count = 0\n",
    "\n",
    "t = 0\n",
    "\n",
    "for i in range(len(pass_failed_tests)):\n",
    "    if pass_failed_tests[i] == 0:\n",
    "        print(\"FAILED: \", df.iloc[i][\"Rating\"], df.iloc[i][\"Themes\"])\n",
    "        failed_count += 1\n",
    "        failed_sum += df.iloc[i][\"Rating\"]\n",
    "        if df.iloc[i][\"Rating\"] <= 1700 and (\"advantage\" in df.iloc[i][\"Themes\"]):\n",
    "            t += 1\n",
    "    else:\n",
    "        # print(\"PASSED: \", df.iloc[i][\"Rating\"], df.iloc[i][\"Themes\"])\n",
    "        # passed_count += 1\n",
    "        # passed_sum += df.iloc[i][\"Rating\"]\n",
    "        pass\n",
    "\n",
    "print(failed_sum / failed_count)\n",
    "print(t)"
   ]
  },
  {
   "cell_type": "code",
   "execution_count": 7,
   "metadata": {},
   "outputs": [
    {
     "name": "stdout",
     "output_type": "stream",
     "text": [
      "PASSED:  1740 crushing middlegame pin short\n",
      "PASSED:  1828 crushing middlegame short\n",
      "PASSED:  1812 advantage discoveredAttack middlegame short\n",
      "PASSED:  2129 advantage middlegame short\n",
      "PASSED:  1663 kingsideAttack mate mateIn2 middlegame sacrifice short\n",
      "PASSED:  1557 advantage middlegame short trappedPiece\n",
      "PASSED:  1513 clearance crushing defensiveMove long middlegame\n",
      "PASSED:  1595 advantage middlegame short trappedPiece\n",
      "PASSED:  1776 crushing long middlegame\n",
      "PASSED:  1619 crushing endgame long\n",
      "PASSED:  1592 advantage long opening\n",
      "PASSED:  1536 advantage fork opening short\n",
      "PASSED:  1660 crushing endgame pawnEndgame short\n",
      "PASSED:  1914 crushing middlegame short\n",
      "PASSED:  1821 advancedPawn advantage endgame promotion short\n",
      "PASSED:  1524 advancedPawn advantage discoveredAttack endgame long\n",
      "PASSED:  1800 advantage opening short\n",
      "PASSED:  1791 advantage middlegame pin short\n",
      "PASSED:  1645 crushing deflection exposedKing long middlegame sacrifice\n",
      "PASSED:  1667 advantage hangingPiece middlegame pin short\n",
      "PASSED:  1543 equality long middlegame\n",
      "PASSED:  1765 advantage middlegame short\n",
      "PASSED:  1601 attraction crushing fork long middlegame sacrifice\n",
      "PASSED:  1502 advantage kingsideAttack middlegame short\n",
      "PASSED:  2343 advantage intermezzo middlegame veryLong\n",
      "PASSED:  1513 advantage defensiveMove endgame knightEndgame short\n",
      "PASSED:  1800 crushing hangingPiece middlegame short\n",
      "PASSED:  1790 advantage middlegame oneMove\n",
      "PASSED:  1968 advantage middlegame sacrifice short\n",
      "PASSED:  1731 advantage deflection endgame veryLong\n",
      "PASSED:  1597 advantage endgame short\n",
      "PASSED:  1812 advantage middlegame short\n",
      "PASSED:  1652 advantage long middlegame\n",
      "PASSED:  1593 advantage fork middlegame short\n",
      "PASSED:  1513 advantage defensiveMove hangingPiece middlegame short\n",
      "PASSED:  1790 bishopEndgame crushing endgame long quietMove zugzwang\n",
      "PASSED:  1500 advantage middlegame short\n",
      "PASSED:  1680 advantage middlegame short\n",
      "PASSED:  1783 advantage endgame short skewer\n",
      "PASSED:  1672 advantage discoveredAttack fork middlegame short\n",
      "PASSED:  1671 crushing endgame long master masterVsMaster\n",
      "PASSED:  1902 advantage middlegame short\n",
      "PASSED:  1845 crushing exposedKing kingsideAttack long middlegame\n",
      "PASSED:  1809 advantage discoveredAttack opening short\n",
      "PASSED:  1794 advantage opening short\n",
      "PASSED:  1962 crushing middlegame oneMove\n",
      "PASSED:  1818 crushing endgame interference short\n",
      "PASSED:  2069 advantage middlegame short\n",
      "PASSED:  1540 crushing long middlegame queensideAttack\n",
      "PASSED:  1502 crushing middlegame short\n",
      "PASSED:  1839 advancedPawn advantage middlegame pin short\n",
      "PASSED:  1908 advantage endgame fork short\n",
      "PASSED:  1861 advantage middlegame short\n",
      "PASSED:  1898 advantage fork hangingPiece long middlegame\n",
      "PASSED:  1740 crushing middlegame short\n",
      "PASSED:  1624 advantage long middlegame\n",
      "PASSED:  1771 crushing endgame rookEndgame short\n",
      "PASSED:  1922 advantage defensiveMove deflection endgame veryLong\n",
      "PASSED:  1660 crushing long middlegame\n",
      "PASSED:  1781 crushing middlegame short\n",
      "PASSED:  1534 advantage deflection endgame short\n",
      "PASSED:  1932 advantage middlegame sacrifice short\n",
      "PASSED:  1783 attraction crushing deflection endgame fork long\n",
      "28\n",
      "1738.015873015873\n"
     ]
    }
   ],
   "source": [
    "t = 0\n",
    "\n",
    "for i in range(len(pass_failed_tests)):\n",
    "    if pass_failed_tests[i] == 0:\n",
    "        # print(\"FAILED: \", df.iloc[i][\"Rating\"], df.iloc[i][\"Themes\"])\n",
    "        # failed_count += 1\n",
    "        # failed_sum += df.iloc[i][\"Rating\"]\n",
    "        pass\n",
    "    else:\n",
    "        print(\"PASSED: \", df.iloc[i][\"Rating\"], df.iloc[i][\"Themes\"])\n",
    "        passed_count += 1\n",
    "        passed_sum += df.iloc[i][\"Rating\"]\n",
    "        if df.iloc[i][\"Rating\"] <= 1700:\n",
    "            t += 1\n",
    "\n",
    "print(t)\n",
    "print(passed_sum / passed_count)"
   ]
  },
  {
   "cell_type": "code",
   "execution_count": 8,
   "metadata": {},
   "outputs": [
    {
     "name": "stdout",
     "output_type": "stream",
     "text": [
      "f | c\n",
      "[15, 38]\n",
      "[22, 25]\n"
     ]
    }
   ],
   "source": [
    "b_count = [0,0]\n",
    "w_count = [0,0]\n",
    "\n",
    "for i in range(100):\n",
    "    # print(df.iloc[i][\"FEN\"]) \n",
    "    if df.iloc[i][\"FEN\"].split(\" \")[1] == \"b\":\n",
    "        b_count[pass_failed_tests[i]] += 1\n",
    "    else:\n",
    "        w_count[pass_failed_tests[i]] += 1\n",
    "\n",
    "print(\"f | c\")\n",
    "print(b_count) # W\n",
    "print(w_count) # B"
   ]
  },
  {
   "cell_type": "markdown",
   "metadata": {},
   "source": [
    "# Serialization experiment"
   ]
  },
  {
   "cell_type": "code",
   "execution_count": 1,
   "metadata": {},
   "outputs": [],
   "source": [
    "string_list = \"[0.6, Move.from_uci('e7c5'), [[42.50636672973633, <Outcome.BLACK_WON: -1>, 'https://lichess.org/3lEsQvLU#34', 'kg8 rf8 qd8 rc8 ph7 pg7 pf7 nf6 pa6 Pf5 pd5 bc5 pb5 Pe4 Qd4 Ph3 Bd3 Nc3 Pa3 Pg2 Pc2 Pb2 Kg1 Rf1 Ra1 '], [41.92009735107422, Outcome.WHITE_WON, 'https://lichess.org/NtROTkkp#42', 'kg8 rc8 rb8 ph7 pg7 pf7 qd7 nf6 pb6 pd5 bc5 Pb5 pa5 Pe4 Qd4 Pa4 Pg3 Nc3 Ph2 Kg2 Pf2 Bb2 Rd1 Rc1 '], [41.68668746948242, <Outcome.BLACK_WON: -1>, 'https://lichess.org/hsII84BL#29', 'kg8 rf8 rc8 ph7 pg7 pf7 be7 qd7 pb7 nf6 pe6 pa6 Bg5 pd5 Pf4 Pd4 Pa4 Ph3 Nc3 Pg2 Qe2 Pc2 Pb2 Kg1 Rf1 Re1 '], [41.56430435180664, <Outcome.BLACK_WON: -1>, 'https://lichess.org/VoxEixrZ#32', 'kg8 rf8 ra8 ph7 pg7 pf7 qc7 bb7 pe6 pa6 pd5 bc5 pb5 Pg4 Pf4 Pe4 Qd4 Nc3 Pa3 Pg2 Pc2 Pb2 Ba2 Kg1 Rf1 Rd1 Bc1 '], [41.562225341796875, Outcome.WHITE_WON, 'https://lichess.org/v85b1iMi#32', 'kg8 rf8 rc8 ph7 pg7 pf7 qd7 pb7 pe6 pa6 nf5 Pe5 pd5 bc5 Qg4 Pf4 Nc3 Pa3 Ph2 Pg2 Bd2 Pb2 Kh1 Rf1 Ra1 ']]]\""
   ]
  },
  {
   "cell_type": "code",
   "execution_count": 6,
   "metadata": {},
   "outputs": [],
   "source": [
    "string_list = string_list.replace(\"<Outcome.WHITE_WON: 1>\", \"Outcome.WHITE_WON\").replace(\"<Outcome.BLACK_WON: -1>\", \"Outcome.WHITE_WON\")\n"
   ]
  },
  {
   "cell_type": "code",
   "execution_count": 7,
   "metadata": {},
   "outputs": [
    {
     "data": {
      "text/plain": [
       "\"[0.6, Move.from_uci('e7c5'), [[42.50636672973633, Outcome.WHITE_WON, 'https://lichess.org/3lEsQvLU#34', 'kg8 rf8 qd8 rc8 ph7 pg7 pf7 nf6 pa6 Pf5 pd5 bc5 pb5 Pe4 Qd4 Ph3 Bd3 Nc3 Pa3 Pg2 Pc2 Pb2 Kg1 Rf1 Ra1 '], [41.92009735107422, Outcome.WHITE_WON, 'https://lichess.org/NtROTkkp#42', 'kg8 rc8 rb8 ph7 pg7 pf7 qd7 nf6 pb6 pd5 bc5 Pb5 pa5 Pe4 Qd4 Pa4 Pg3 Nc3 Ph2 Kg2 Pf2 Bb2 Rd1 Rc1 '], [41.68668746948242, Outcome.WHITE_WON, 'https://lichess.org/hsII84BL#29', 'kg8 rf8 rc8 ph7 pg7 pf7 be7 qd7 pb7 nf6 pe6 pa6 Bg5 pd5 Pf4 Pd4 Pa4 Ph3 Nc3 Pg2 Qe2 Pc2 Pb2 Kg1 Rf1 Re1 '], [41.56430435180664, Outcome.WHITE_WON, 'https://lichess.org/VoxEixrZ#32', 'kg8 rf8 ra8 ph7 pg7 pf7 qc7 bb7 pe6 pa6 pd5 bc5 pb5 Pg4 Pf4 Pe4 Qd4 Nc3 Pa3 Pg2 Pc2 Pb2 Ba2 Kg1 Rf1 Rd1 Bc1 '], [41.562225341796875, Outcome.WHITE_WON, 'https://lichess.org/v85b1iMi#32', 'kg8 rf8 rc8 ph7 pg7 pf7 qd7 pb7 pe6 pa6 nf5 Pe5 pd5 bc5 Qg4 Pf4 Nc3 Pa3 Ph2 Pg2 Bd2 Pb2 Kh1 Rf1 Ra1 ']]]\""
      ]
     },
     "execution_count": 7,
     "metadata": {},
     "output_type": "execute_result"
    }
   ],
   "source": [
    "string_list"
   ]
  },
  {
   "cell_type": "code",
   "execution_count": 24,
   "metadata": {},
   "outputs": [],
   "source": [
    "import chess\n",
    "from chess import Move\n",
    "from enum import Enum\n",
    "\n",
    "class Outcome(Enum):\n",
    "    WHITE_WON = 1\n",
    "    BLACK_WON = -1\n",
    "    DRAW = 0\n",
    "    \n",
    "    # TODO: Why is this not the default representation??\n",
    "    def __repr__(self) -> str:\n",
    "        return f\"Outcome.{self.name}\"\n",
    "\n",
    "list_list = eval(string_list)"
   ]
  },
  {
   "cell_type": "code",
   "execution_count": 25,
   "metadata": {},
   "outputs": [
    {
     "data": {
      "text/plain": [
       "[0.6,\n",
       " Move.from_uci('e7c5'),\n",
       " [[42.50636672973633,\n",
       "   Outcome.WHITE_WON,\n",
       "   'https://lichess.org/3lEsQvLU#34',\n",
       "   'kg8 rf8 qd8 rc8 ph7 pg7 pf7 nf6 pa6 Pf5 pd5 bc5 pb5 Pe4 Qd4 Ph3 Bd3 Nc3 Pa3 Pg2 Pc2 Pb2 Kg1 Rf1 Ra1 '],\n",
       "  [41.92009735107422,\n",
       "   Outcome.WHITE_WON,\n",
       "   'https://lichess.org/NtROTkkp#42',\n",
       "   'kg8 rc8 rb8 ph7 pg7 pf7 qd7 nf6 pb6 pd5 bc5 Pb5 pa5 Pe4 Qd4 Pa4 Pg3 Nc3 Ph2 Kg2 Pf2 Bb2 Rd1 Rc1 '],\n",
       "  [41.68668746948242,\n",
       "   Outcome.WHITE_WON,\n",
       "   'https://lichess.org/hsII84BL#29',\n",
       "   'kg8 rf8 rc8 ph7 pg7 pf7 be7 qd7 pb7 nf6 pe6 pa6 Bg5 pd5 Pf4 Pd4 Pa4 Ph3 Nc3 Pg2 Qe2 Pc2 Pb2 Kg1 Rf1 Re1 '],\n",
       "  [41.56430435180664,\n",
       "   Outcome.WHITE_WON,\n",
       "   'https://lichess.org/VoxEixrZ#32',\n",
       "   'kg8 rf8 ra8 ph7 pg7 pf7 qc7 bb7 pe6 pa6 pd5 bc5 pb5 Pg4 Pf4 Pe4 Qd4 Nc3 Pa3 Pg2 Pc2 Pb2 Ba2 Kg1 Rf1 Rd1 Bc1 '],\n",
       "  [41.562225341796875,\n",
       "   Outcome.WHITE_WON,\n",
       "   'https://lichess.org/v85b1iMi#32',\n",
       "   'kg8 rf8 rc8 ph7 pg7 pf7 qd7 pb7 pe6 pa6 nf5 Pe5 pd5 bc5 Qg4 Pf4 Nc3 Pa3 Ph2 Pg2 Bd2 Pb2 Kh1 Rf1 Ra1 ']]]"
      ]
     },
     "execution_count": 25,
     "metadata": {},
     "output_type": "execute_result"
    }
   ],
   "source": [
    "eval(str(list_list))"
   ]
  },
  {
   "cell_type": "markdown",
   "metadata": {},
   "source": [
    "Works very very nice.\n",
    "So we should be able to calculate the map and p@3 for all the experiments we ran so far."
   ]
  }
 ],
 "metadata": {
  "kernelspec": {
   "display_name": ".venv",
   "language": "python",
   "name": "python3"
  },
  "language_info": {
   "codemirror_mode": {
    "name": "ipython",
    "version": 3
   },
   "file_extension": ".py",
   "mimetype": "text/x-python",
   "name": "python",
   "nbconvert_exporter": "python",
   "pygments_lexer": "ipython3",
   "version": "3.11.6"
  }
 },
 "nbformat": 4,
 "nbformat_minor": 2
}
