{
 "cells": [
  {
   "cell_type": "markdown",
   "metadata": {},
   "source": [
    "# Report \n",
    "\n",
    "We started of by uncompressing a part of the chess database to get a better understanding of the data using:\n",
    "\n",
    "```bash\n",
    "pzstd -d lichess_db_standard_rated_2023-09.pgn.zst  # | head -n 1000 > lichess_db_standard_rated_2013-01.pgn\n",
    "```\n"
   ]
  }
 ],
 "metadata": {
  "language_info": {
   "name": "python"
  }
 },
 "nbformat": 4,
 "nbformat_minor": 2
}
