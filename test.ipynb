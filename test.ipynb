{
 "cells": [
  {
   "cell_type": "code",
   "execution_count": 3,
   "metadata": {},
   "outputs": [
    {
     "ename": "AttributeError",
     "evalue": "module 'lucene' has no attribute 'shutdownVM'",
     "output_type": "error",
     "traceback": [
      "\u001b[0;31m---------------------------------------------------------------------------\u001b[0m",
      "\u001b[0;31mAttributeError\u001b[0m                            Traceback (most recent call last)",
      "\u001b[1;32m/Users/tobiaswilfert/Documents/University/IR/chess-db/test.ipynb Cell 2\u001b[0m line \u001b[0;36m1\n\u001b[0;32m----> <a href='vscode-notebook-cell:/Users/tobiaswilfert/Documents/University/IR/chess-db/test.ipynb#W1sZmlsZQ%3D%3D?line=0'>1</a>\u001b[0m lucene\u001b[39m.\u001b[39;49mshutdownVM()\n",
      "\u001b[0;31mAttributeError\u001b[0m: module 'lucene' has no attribute 'shutdownVM'"
     ]
    }
   ],
   "source": [
    "# This needs to be run once to get it all going\n",
    "lucene.initVM(vmargs=['-Djava.awt.headless=true'])"
   ]
  },
  {
   "cell_type": "code",
   "execution_count": 6,
   "metadata": {},
   "outputs": [],
   "source": [
    "# Check if Lucene is found and working\n",
    "import sys, lucene, unittest\n",
    "from lucene import JArray\n",
    "from org.apache.lucene.document import StoredField\n",
    "\n",
    "\n",
    "class BinaryTestCase(unittest.TestCase):\n",
    "\n",
    "    def binary(self, b):\n",
    "\n",
    "        c = JArray('byte')(b)\n",
    "        field = StoredField(\"bin\", c)\n",
    "        v = field.binaryValue().bytes\n",
    "        assert c == v and b == [a for a in v]\n",
    "\n",
    "    def testBinary(self):\n",
    "\n",
    "        self.binary([66, 90, 104, 57, 49, 65, 89, 38,\n",
    "                     83, 89, 105, 56, 95, 75, 0, 0, 14, -41, -128])\n",
    "        self.binary([])\n",
    "        self.binary([0, 0, 0])\n",
    "\n",
    "b = BinaryTestCase()\n",
    "b.testBinary()"
   ]
  },
  {
   "cell_type": "markdown",
   "metadata": {},
   "source": [
    "Seems to work nice."
   ]
  }
 ],
 "metadata": {
  "kernelspec": {
   "display_name": ".venv",
   "language": "python",
   "name": "python3"
  },
  "language_info": {
   "codemirror_mode": {
    "name": "ipython",
    "version": 3
   },
   "file_extension": ".py",
   "mimetype": "text/x-python",
   "name": "python",
   "nbconvert_exporter": "python",
   "pygments_lexer": "ipython3",
   "version": "3.11.6"
  }
 },
 "nbformat": 4,
 "nbformat_minor": 2
}
